{
 "cells": [
  {
   "cell_type": "markdown",
   "metadata": {
    "ExecuteTime": {
     "end_time": "2020-01-13T11:24:41.976044Z",
     "start_time": "2020-01-13T11:24:41.969390Z"
    }
   },
   "source": [
    "result_hogehoge\\~ を aa_result_hogehoge~ に変換する  \n",
    "fastwy実行後は必ずやる"
   ]
  },
  {
   "cell_type": "code",
   "execution_count": 1,
   "metadata": {},
   "outputs": [],
   "source": [
    "%matplotlib inline\n",
    "\n",
    "# Options\n",
    "#onlyList = [] # If this is not empty, only datasets for the categories are processed\n",
    "onlyList = ['all']\n",
    "\n",
    "skipList = [] # datasets for the categories here are not processed"
   ]
  },
  {
   "cell_type": "code",
   "execution_count": 2,
   "metadata": {
    "ExecuteTime": {
     "end_time": "2020-10-13T05:30:18.726697Z",
     "start_time": "2020-10-13T05:30:17.937676Z"
    }
   },
   "outputs": [],
   "source": [
    "import pandas as pd\n",
    "import numpy as np\n",
    "from IPython.display import display\n",
    "import sys\n",
    "from tqdm import tqdm_notebook as tqdm\n",
    "import matplotlib.pyplot as plt\n",
    "import seaborn as sns\n",
    "import re #正規表現\n",
    "import pickle\n",
    "import warnings\n",
    "import os\n",
    "\n",
    "from sklearn.model_selection import train_test_split, GridSearchCV, StratifiedKFold\n",
    "from sklearn.linear_model import LogisticRegression\n",
    "from sklearn.metrics import confusion_matrix, f1_score, roc_curve, roc_auc_score, precision_score, recall_score, accuracy_score\n",
    "from sklearn import svm\n",
    "\n",
    "from multiprocessing import Process, Pool\n",
    "\n",
    "from protein_utility.protein_utility import *\n",
    "import protein_utility.parameters as parameters\n",
    "\n",
    "sns.set()\n",
    "\n",
    "warnings.filterwarnings('ignore') #警告無視注意\n",
    "\n",
    "\n",
    "SEED=1\n",
    "\n",
    "pd.set_option(\"display.max_columns\", 100)\n",
    "\n",
    "aa_list =[\"A\",\"B\",\"C\",\"D\",\"E\",\"F\",\"G\",\"H\",\"I\",\"K\",\"L\",\"M\",\"N\",\"P\",\"Q\",\"R\",\"S\",\"T\",\"U\",\"V\",\"W\",\"X\",\"Y\",\"Z\"]\n",
    "aa_list =[\"A\",\"B\",\"C\",\"D\",\"E\",\"F\",\"G\",\"H\",\"I\",\"K\",\"L\",\"M\",\"N\",\"O\",\"P\",\"Q\",\"R\",\"S\",\"T\",\"U\",\"V\",\"W\",\"X\",\"Y\",\"Z\"]\n",
    "\n",
    "#20種+4\n",
    "categoryList = [\"Bovine\", \"Buckwheat\", \"Chicken\", \"Crab\", \"Kiwi\", \"Peanut\", \"Salmon\", \"Shrimp\", \"Soybean\", \"Wheat\"]\n",
    "categoryList = [\"Apple\", \"Bovine\", \"Buckwheat\", \"Carrot\", \"Chicken\", \"Corn\", \"Crab\", \"Kiwi\", \"Mustard\", \"Olive\", \"Oyster\", \"Peach\", \"Peanut\", \"Potato\", \"Rice\", \"Salmon\", \"Shrimp\", \"Soybean\", \"Tomato\", \"Wheat\"]"
   ]
  },
  {
   "cell_type": "code",
   "execution_count": 3,
   "metadata": {
    "ExecuteTime": {
     "end_time": "2020-10-13T05:30:20.196753Z",
     "start_time": "2020-10-13T05:30:18.728428Z"
    }
   },
   "outputs": [
    {
     "name": "stdout",
     "output_type": "stream",
     "text": [
      "Parameters loaded.\n",
      "FOOD_NAIVE          : False\n",
      "FOOD_ORDER          : False\n",
      "FOOD_ONLY           : False\n",
      "NF_NA_ADD           : False\n",
      "MTEC                : False\n",
      "MTEC_ORDER          : False\n",
      "FOOD_WITH_MTEC_NAIVE: False\n",
      "FOOD_WITH_MTEC_ORDER: True\n",
      "FOOD_ONLY_WITH_MTEC_ORDER: False\n",
      "\n",
      "topdir              : food_with_mtec_order_Jan2021\n",
      "fname_tail          : _food_with_mtec_order_Jan2021\n",
      "\n",
      "Parameters loaded.\n",
      "FOOD_NAIVE          : False\n",
      "FOOD_ORDER          : False\n",
      "FOOD_ONLY           : False\n",
      "NF_NA_ADD           : False\n",
      "MTEC                : False\n",
      "MTEC_ORDER          : False\n",
      "FOOD_WITH_MTEC_NAIVE: False\n",
      "FOOD_WITH_MTEC_ORDER: True\n",
      "FOOD_ONLY_WITH_MTEC_ORDER: False\n",
      "\n",
      "topdir              : food_with_mtec_order_Jan2021\n",
      "fname_tail          : _food_with_mtec_order_Jan2021\n",
      "\n"
     ]
    }
   ],
   "source": [
    "params_list = []\n",
    "#params_list.append(parameters.Parameters(FOOD_ONLY = True, op_tail = \"C1Z1L1800R10k\", Jan2021 = True))\n",
    "#params_list.append(parameters.Parameters(FOOD_ORDER = True, op_tail = \"C1GT1L1800R10k\", Jan2021 = True))\n",
    "params_list.append(parameters.Parameters(FOOD_WITH_MTEC_ORDER = True, op_tail = \"C1Ga001T1L1800R10k\", Jan2021 = True))\n",
    "params_list.append(parameters.Parameters(FOOD_WITH_MTEC_ORDER = True, op_tail = \"C1GT1L1800R10k\", Jan2021 = True))\n",
    "\n",
    "# \"C1Z1L500R10k\"\n",
    "# \"C1Z1S1L500R10k\"\n",
    "# \"C1Z1M6L6R10k\"\n",
    "# \"C1Z1M6S1L6R10k\""
   ]
  },
  {
   "cell_type": "code",
   "execution_count": 4,
   "metadata": {
    "ExecuteTime": {
     "end_time": "2020-10-13T05:30:32.165074Z",
     "start_time": "2020-10-13T05:30:20.199524Z"
    }
   },
   "outputs": [],
   "source": [
    "for params in params_list:\n",
    "    # for category in categoryList:\n",
    "    for category in [\"all\"]:\n",
    "    # for category in categoryList+[\"all\"]:\n",
    "        if category in skipList:\n",
    "            continue\n",
    "        if len(onlyList) != 0 and category not in onlyList:\n",
    "            continue\n",
    "\n",
    "        print(\"--{}--\".format(category))\n",
    "        df_pattern = pd.read_csv(params.def_result(category, disp=False))\n",
    "\n",
    "        df_aa_pattern = numseq_to_aa(df_pattern, aa_list = aa_list)\n",
    "\n",
    "        df_pattern[\"pattern\"] = df_aa_pattern[\"pattern\"]\n",
    "\n",
    "        df_pattern.to_csv(params.def_aa_result(category))"
   ]
  },
  {
   "cell_type": "code",
   "execution_count": null,
   "metadata": {},
   "outputs": [],
   "source": []
  }
 ],
 "metadata": {
  "kernelspec": {
   "display_name": "Python 3",
   "language": "python",
   "name": "python3"
  },
  "language_info": {
   "codemirror_mode": {
    "name": "ipython",
    "version": 3
   },
   "file_extension": ".py",
   "mimetype": "text/x-python",
   "name": "python",
   "nbconvert_exporter": "python",
   "pygments_lexer": "ipython3",
   "version": "3.8.8"
  },
  "toc": {
   "base_numbering": 1,
   "nav_menu": {},
   "number_sections": true,
   "sideBar": true,
   "skip_h1_title": false,
   "title_cell": "Table of Contents",
   "title_sidebar": "Contents",
   "toc_cell": false,
   "toc_position": {},
   "toc_section_display": true,
   "toc_window_display": false
  },
  "varInspector": {
   "cols": {
    "lenName": 16,
    "lenType": 16,
    "lenVar": 40
   },
   "kernels_config": {
    "python": {
     "delete_cmd_postfix": "",
     "delete_cmd_prefix": "del ",
     "library": "var_list.py",
     "varRefreshCmd": "print(var_dic_list())"
    },
    "r": {
     "delete_cmd_postfix": ") ",
     "delete_cmd_prefix": "rm(",
     "library": "var_list.r",
     "varRefreshCmd": "cat(var_dic_list()) "
    }
   },
   "types_to_exclude": [
    "module",
    "function",
    "builtin_function_or_method",
    "instance",
    "_Feature"
   ],
   "window_display": true
  }
 },
 "nbformat": 4,
 "nbformat_minor": 4
}