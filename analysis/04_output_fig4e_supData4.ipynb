{
 "cells": [
  {
   "cell_type": "markdown",
   "source": [
    "- 9/7 NIHSmtg用にカテゴリ数, カテゴリ詳細を付与した後fの列を消す等してxlsxを整形\n",
    "- カテゴリ数についてのヒストグラムを作成"
   ],
   "metadata": {}
  },
  {
   "cell_type": "code",
   "execution_count": null,
   "source": [
    "%matplotlib inline\n",
    "\n",
    "import pandas as pd\n",
    "import numpy as np\n",
    "from IPython.display import display\n",
    "import sys\n",
    "from tqdm import tqdm_notebook as tqdm\n",
    "import matplotlib.pyplot as plt\n",
    "import seaborn as sns\n",
    "import re #正規表現\n",
    "import pickle\n",
    "import warnings\n",
    "import os\n",
    "\n",
    "from sklearn.model_selection import train_test_split, GridSearchCV, StratifiedKFold\n",
    "from sklearn.linear_model import LogisticRegression\n",
    "from sklearn.metrics import confusion_matrix, f1_score, roc_curve, roc_auc_score, precision_score, recall_score, accuracy_score\n",
    "from sklearn import svm\n",
    "\n",
    "from multiprocessing import Process, Pool\n",
    "\n",
    "# from protein_utility.protein_utility import *\n",
    "from protein_utility_test import *\n",
    "import protein_utility.parameters as parameters\n",
    "\n",
    "import xml.etree.ElementTree as ET\n",
    "from sklearn.preprocessing import StandardScaler, MinMaxScaler\n",
    "\n",
    "\n",
    "sns.set()\n",
    "\n",
    "warnings.filterwarnings('ignore') #警告無視注意\n",
    "\n",
    "\n",
    "SEED=1\n",
    "\n",
    "pd.set_option(\"display.max_columns\", 100)\n",
    "\n",
    "aa_list =[\"A\",\"B\",\"C\",\"D\",\"E\",\"F\",\"G\",\"H\",\"I\",\"K\",\"L\",\"M\",\"N\",\"P\",\"Q\",\"R\",\"S\",\"T\",\"U\",\"V\",\"W\",\"X\",\"Y\",\"Z\"]\n",
    "#20種+4\n",
    "categoryList = [\"Bovine\", \"Buckwheat\", \"Chicken\", \"Crab\", \"Kiwi\", \"Peanut\", \"Salmon\", \"Shrimp\", \"Soybean\", \"Wheat\"]\n",
    "\n",
    "OUTPUT_DIR = 'output_ipynb/04_output_fig4e_supData4'\n",
    "os.makedirs(OUTPUT_DIR, exist_ok=True)"
   ],
   "outputs": [],
   "metadata": {
    "ExecuteTime": {
     "end_time": "2020-09-06T09:54:40.999702Z",
     "start_time": "2020-09-06T09:54:39.484062Z"
    }
   }
  },
  {
   "cell_type": "code",
   "execution_count": null,
   "source": [
    "# create_Xにおいてはstd, normalize絡みのオプションを指定しなくていい\n",
    "\n",
    "# FastWY\n",
    "params = parameters.Parameters(FOOD_WITH_MTEC_ORDER = True, op_tail = \"C1GT1L1800R10k\", Jan2021 = True)\n",
    "\n",
    "# Allerdictor\n",
    "# params = parameters.Parameters(FOOD_WITH_MTEC_ORDER = True, op_tail = \"allerdictor\", ALLERDICTOR = True, allerdictor_min_sup=8)\n",
    "\n",
    "# MEME\n",
    "# maxw=30\n",
    "# nmotifs=300\n",
    "# meme_op = \"food_order_aller_nmotifs{}maxw{}\".format(nmotifs, maxw)\n",
    "# params = parameters.Parameters(FOOD_WITH_MTEC_ORDER = True, SIM=False, MEME = True, op_tail = \"mtec\", meme_op = meme_op, meme_pattern_mode = True)\n",
    "\n",
    "\n",
    "p=20 #プロセス数\n",
    "\n",
    "\n",
    "# categoryList = [\"All\"]"
   ],
   "outputs": [],
   "metadata": {
    "ExecuteTime": {
     "end_time": "2020-09-06T09:54:41.010945Z",
     "start_time": "2020-09-06T09:54:41.002971Z"
    }
   }
  },
  {
   "cell_type": "markdown",
   "source": [
    "# カテゴリ数とカテゴリ詳細を追記"
   ],
   "metadata": {}
  },
  {
   "cell_type": "code",
   "execution_count": null,
   "source": [
    "params_ps1_a001 = parameters.Parameters(FOOD_ONLY=True, op_tail = \"C1a001L1800R10k\")\n",
    "params_ps1_a005 = parameters.Parameters(FOOD_ONLY=True, op_tail = \"C1L1800R10k\")\n",
    "params_ps1_a01 = parameters.Parameters(FOOD_ONLY=True, op_tail = \"C1a01L1800R10k\")\n",
    "\n",
    "params_ps2_a001 = parameters.Parameters(FOOD_ORDER=True, op_tail = \"C1Ga001L1800R10k\")\n",
    "params_ps2_a005 = parameters.Parameters(FOOD_ORDER=True, op_tail = \"C1GL1800R10k\")\n",
    "params_ps2_a01 = parameters.Parameters(FOOD_ORDER=True, op_tail = \"C1Ga01L1800R10k\")\n",
    "\n",
    "params_ps3_a001 = parameters.Parameters(FOOD_ONLY_WITH_MTEC_ORDER=True, op_tail = \"C1Ga001L1800R10k\")\n",
    "params_ps3_a005 = parameters.Parameters(FOOD_ONLY_WITH_MTEC_ORDER=True, op_tail = \"C1GL1800R10k\")\n",
    "params_ps3_a01 = parameters.Parameters(FOOD_ONLY_WITH_MTEC_ORDER=True, op_tail = \"C1Ga01L1800R10k\")\n",
    "\n",
    "params_ps4_a001 = parameters.Parameters(FOOD_WITH_MTEC_ORDER=True, op_tail = \"C1Ga001T1L1800R10k\", Jan2021 = True)\n",
    "params_ps4_a005 = parameters.Parameters(FOOD_WITH_MTEC_ORDER=True, op_tail = \"C1GT1L1800R10k\", Jan2021=True)\n",
    "params_ps4_a01 = parameters.Parameters(FOOD_WITH_MTEC_ORDER=True, op_tail = \"C1Ga01T1L1800R10k\", Jan2021=True)"
   ],
   "outputs": [],
   "metadata": {
    "ExecuteTime": {
     "end_time": "2020-09-06T09:54:41.118934Z",
     "start_time": "2020-09-06T09:54:41.014260Z"
    },
    "scrolled": true
   }
  },
  {
   "cell_type": "code",
   "execution_count": null,
   "source": [
    "#ps_list = [1, 2, 3, 4]\n",
    "ps_list = [4]\n",
    "\n",
    "#alpha_list = [\"001\", \"005\", \"01\"]\n",
    "alpha_list = [\"001\", \"005\"]\n",
    "\n",
    "params_dict = {1: {\"001\": params_ps1_a001, \"005\": params_ps1_a005, \"01\": params_ps1_a01}, 2: {\"001\": params_ps2_a001, \"005\": params_ps2_a005, \"01\": params_ps2_a01}, 3: {\"001\": params_ps3_a001, \"005\": params_ps3_a005, \"01\": params_ps3_a01}, 4: {\"001\": params_ps4_a001, \"005\": params_ps4_a005, \"01\": params_ps4_a01}}\n",
    "\n",
    "for ps in ps_list:\n",
    "    for alpha_l in alpha_list:\n",
    "        for extract_label, extract_stat in {1: 'allergen'}.items(): # Added by Hiroyuki Hanada, 2021.6.17\n",
    "        #for extract_label, extract_stat in {1: 'allergen', -1: 'nonallergen'}.items(): # Added by Hiroyuki Hanada, 2021.6.17\n",
    "            fname_supData4 = OUTPUT_DIR + (\"/supData4_{}_ps{}_a{}_Jan2021.xlsx\".format(extract_stat, ps, alpha_l))\n",
    "            params = params_dict[ps][alpha_l]\n",
    "            category = \"all\"\n",
    "\n",
    "            df_data = pd.read_csv(params.def_aa(category, train_test=\"train\"), index_col=0)\n",
    "            df_aa_result = pd.read_csv(params.def_aa_result(category), index_col=0, keep_default_na=False)\n",
    "            df_aa_result = df_aa_result[df_aa_result[\"label\"] ==extract_label].reset_index(drop=True) # アレルゲンパターンのみ注意\n",
    "            print(\"df_aa: \", df_aa_result.shape)\n",
    "            df_aa_result[\"category_num\"] = \"\"\n",
    "            df_aa_result[\"category\"] = \"\"\n",
    "\n",
    "            for i_pat, pat in tqdm(enumerate(df_aa_result[\"pattern\"])):\n",
    "                categ_set = set()\n",
    "                categ_num = 0\n",
    "                for i_seq, seq in enumerate(df_data[\"sequence\"]):\n",
    "                    if not isinstance(pat, str):\n",
    "                        raise RuntimeError(\"`pat` is not a string, but %s (%s)\" % (str(type(pat)), str(pat)))\n",
    "                    if pat in seq:\n",
    "                        categ = df_data.at[i_seq, \"bio_category\"]\n",
    "                        if categ == \"Food\":\n",
    "                            categ = df_data.at[i_seq, \"category\"]\n",
    "                        if not categ in categ_set and categ == categ:\n",
    "                            categ_set.add(categ)\n",
    "                            categ_num += 1\n",
    "                df_aa_result.at[i_pat, \"category_num\"] = categ_num\n",
    "                df_aa_result.at[i_pat, \"category\"] = categ_set\n",
    "\n",
    "\n",
    "            # 整形\n",
    "            df_aa_result = df_aa_result[[\"pattern\", \"length\", \"adjusted_p\", \"supportSum\", \"sup+\", \"sup-\", \"category_num\", \"category\"]]\n",
    "            display(df_aa_result)\n",
    "\n",
    "            df_aa_result.to_excel(fname_supData4)\n",
    "        "
   ],
   "outputs": [],
   "metadata": {
    "ExecuteTime": {
     "end_time": "2020-09-06T09:55:51.780093Z",
     "start_time": "2020-09-06T09:54:41.121789Z"
    },
    "scrolled": true
   }
  },
  {
   "cell_type": "markdown",
   "source": [
    "# カテゴリ数のヒストグラム\n",
    "実装終わり次第fig4作成スクリプトの方で行う"
   ],
   "metadata": {}
  },
  {
   "cell_type": "code",
   "execution_count": null,
   "source": [
    "scale=5\n",
    "alpha=0.6\n",
    "bins=20\n",
    "font_size=15\n",
    "target_label=\"allergen\"\n",
    "#target_label=\"nonallergen\"\n",
    "\n",
    "for ps in ps_list:\n",
    "    params_str=\"ps%d\" % ps\n",
    "    for alpha_l in alpha_list:\n",
    "        fname_supData4 = OUTPUT_DIR + (\"/supData4_{}_ps{}_a{}_Jan2021.xlsx\".format(target_label, ps, alpha_l))\n",
    "        df_aa_result_plus = pd.read_excel(fname_supData4, index_col=0)\n",
    "        display(df_aa_result_plus)\n",
    "        fig = plt.figure(figsize=(2*scale, 1*scale))\n",
    "        # fig.subplots_adjust(wspace=0.2, hspace=0.4)\n",
    "\n",
    "        ax = fig.add_subplot(1, 1, 1)\n",
    "\n",
    "        ax.hist(list(df_aa_result_plus[\"category_num\"]), bins=bins, alpha=alpha, label=\"plus_pattern\", color = \"red\")\n",
    "\n",
    "        ax.set_title(\"Number of included categories ({}, {}, alpha={})\".format(params_str, category, alpha_l), fontsize=font_size)\n",
    "        ax.set_xlabel(\"Number of included categories\", fontsize=font_size)\n",
    "        ax.set_ylabel(\"Number of patterns\", fontsize=font_size)\n",
    "        ax.legend()\n",
    "\n",
    "        #fig.savefig(OUTPUT_DIR + (\"/hist_pattern_all_{}_{}_{}_{}_Jan2021.pdf\".format(target_label, params_str, alpha_l, \"category_num\")), bbox_inches=\"tight\")\n",
    "        fig.savefig(OUTPUT_DIR + (\"/figure4e_hist_pattern_all_{}_{}_{}_{}_Jan2021.pdf\".format(target_label, params_str, alpha_l, \"category_num\")), bbox_inches=\"tight\")\n",
    "        fig.show()"
   ],
   "outputs": [],
   "metadata": {
    "ExecuteTime": {
     "end_time": "2020-09-06T13:33:34.879699Z",
     "start_time": "2020-09-06T13:33:32.557977Z"
    },
    "scrolled": true
   }
  },
  {
   "cell_type": "code",
   "execution_count": null,
   "source": [],
   "outputs": [],
   "metadata": {}
  }
 ],
 "metadata": {
  "kernelspec": {
   "display_name": "Python 3",
   "language": "python",
   "name": "python3"
  },
  "language_info": {
   "codemirror_mode": {
    "name": "ipython",
    "version": 3
   },
   "file_extension": ".py",
   "mimetype": "text/x-python",
   "name": "python",
   "nbconvert_exporter": "python",
   "pygments_lexer": "ipython3",
   "version": "3.8.8"
  },
  "toc": {
   "base_numbering": 1,
   "nav_menu": {},
   "number_sections": true,
   "sideBar": true,
   "skip_h1_title": false,
   "title_cell": "Table of Contents",
   "title_sidebar": "Contents",
   "toc_cell": false,
   "toc_position": {},
   "toc_section_display": true,
   "toc_window_display": false
  },
  "varInspector": {
   "cols": {
    "lenName": 16,
    "lenType": 16,
    "lenVar": 40
   },
   "kernels_config": {
    "python": {
     "delete_cmd_postfix": "",
     "delete_cmd_prefix": "del ",
     "library": "var_list.py",
     "varRefreshCmd": "print(var_dic_list())"
    },
    "r": {
     "delete_cmd_postfix": ") ",
     "delete_cmd_prefix": "rm(",
     "library": "var_list.r",
     "varRefreshCmd": "cat(var_dic_list()) "
    }
   },
   "types_to_exclude": [
    "module",
    "function",
    "builtin_function_or_method",
    "instance",
    "_Feature"
   ],
   "window_display": true
  }
 },
 "nbformat": 4,
 "nbformat_minor": 4
}